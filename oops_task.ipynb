{
 "cells": [
  {
   "cell_type": "code",
   "execution_count": 11,
   "id": "f9b25391-51bc-4bd9-8a18-fbe39b16d756",
   "metadata": {},
   "outputs": [],
   "source": [
    "# Q1\n",
    "\n",
    "class vehicle:\n",
    "    \n",
    "    def __init__(self,name_of_vehicle,max_speed,average_of_vehicle):\n",
    "        self.name_of_vehicle = name_of_vehicle\n",
    "        self.max_speed = max_speed\n",
    "        self.average_of_vehicle = average_of_vehicle\n",
    "    def __str__(self):\n",
    "        return f\"Vehicle: {self.name_of_vehicle}, Max Speed: {self.max_speed} km/h, Average: {self.average_of_vehicle} km/l\"\n",
    "\n",
    "        "
   ]
  },
  {
   "cell_type": "code",
   "execution_count": 13,
   "id": "b5ce0f66-1ddf-4817-a6d6-ed2b55363bb6",
   "metadata": {},
   "outputs": [
    {
     "name": "stdout",
     "output_type": "stream",
     "text": [
      "Vehicle: Forchunar, Max Speed: 260 km/h, Average: 80 km/l\n"
     ]
    }
   ],
   "source": [
    "adi = vehicle(\"Forchunar\",260,80)\n",
    "print(adi)"
   ]
  },
  {
   "cell_type": "code",
   "execution_count": 16,
   "id": "22dfe50f-b0cf-4930-959b-55a71b5462f2",
   "metadata": {},
   "outputs": [
    {
     "name": "stdout",
     "output_type": "stream",
     "text": [
      "Sedan - Max Speed: 180 km/h, Average: 40 km/h\n",
      "SUV - Max Speed: 220 km/h, Average: 35 km/h\n",
      "Sedan - Seating Capacity: 5\n",
      "SUV - Seating Capacity: 7\n"
     ]
    }
   ],
   "source": [
    "# Q2\n",
    "\n",
    "class Vehicle:\n",
    "    def __init__(self, name_of_vehicle, max_speed, average_of_vehicle):\n",
    "        self.name_of_vehicle = name_of_vehicle\n",
    "        self.max_speed = max_speed\n",
    "        self.average_of_vehicle = average_of_vehicle\n",
    "\n",
    "    def __str__(self):\n",
    "        return f\"{self.name_of_vehicle} - Max Speed: {self.max_speed} km/h, Average: {self.average_of_vehicle} km/h\"\n",
    "\n",
    "\n",
    "class Car(Vehicle):\n",
    "    def __init__(self, name_of_vehicle, max_speed, average_of_vehicle):\n",
    "        super().__init__(name_of_vehicle, max_speed, average_of_vehicle)\n",
    "\n",
    "    def seating_capacity(self, capacity):\n",
    "        return f\"{self.name_of_vehicle} - Seating Capacity: {capacity}\"\n",
    "\n",
    "\n",
    "\n",
    "\n",
    "    car1 = Car(\"Sedan\", 180, 40)\n",
    "    car2 = Car(\"SUV\", 220, 35)\n",
    "\n",
    "    print(car1)\n",
    "    print(car2)\n",
    "\n",
    "    print(car1.seating_capacity(5))\n",
    "    print(car2.seating_capacity(7))\n"
   ]
  },
  {
   "cell_type": "code",
   "execution_count": 19,
   "id": "c11344f0-af81-446c-9790-8e64befc09a1",
   "metadata": {},
   "outputs": [
    {
     "name": "stdout",
     "output_type": "stream",
     "text": [
      "SUV - Max Speed: 220 km/h\n",
      "Engine Type: Petrol\n"
     ]
    }
   ],
   "source": [
    "# Q3\n",
    "\n",
    "\"\"\"Multiple in heritance is a concept in object oriented programing \n",
    "where class can inherit attributes and methods from multiple parent classes.\n",
    "In python ,you can create the class can inherit attributes and methods from multiple parent classes and it\n",
    "can access all the attributes and method those parent classes .\n",
    "this allow you to create  complex class hierarchies and reuse code efficiently \"\"\"\n",
    "\n",
    "\n",
    "\n",
    "class Vehicle:\n",
    "    def __init__(self, name, max_speed):\n",
    "        self.name = name\n",
    "        self.max_speed = max_speed\n",
    "\n",
    "    def display_info(self):\n",
    "        return f\"{self.name} - Max Speed: {self.max_speed} km/h\"\n",
    "\n",
    "\n",
    "\n",
    "class Engine:\n",
    "    def __init__(self, engine_type):\n",
    "        self.engine_type = engine_type\n",
    "\n",
    "    def display_engine(self):\n",
    "        return f\"Engine Type: {self.engine_type}\"\n",
    "\n",
    "\n",
    "\n",
    "class Car(Vehicle, Engine):\n",
    "    def __init__(self, name, max_speed, engine_type):\n",
    "       \n",
    "        super().__init__(name, max_speed)\n",
    "        Engine.__init__(self, engine_type)\n",
    "\n",
    "\n",
    "\n",
    "\n",
    "    car = Car(\"SUV\", 220, \"Petrol\")\n",
    "    print(car.display_info())\n",
    "    print(car.display_engine())\n"
   ]
  },
  {
   "cell_type": "code",
   "execution_count": 23,
   "id": "6dc0cf5e-a8e3-465d-9e0f-37b6487d8556",
   "metadata": {},
   "outputs": [
    {
     "name": "stdout",
     "output_type": "stream",
     "text": [
      "Name: John, Age: 30\n",
      "Age: 30\n",
      "Name: John, Age: 35\n"
     ]
    }
   ],
   "source": [
    "# Q4\n",
    "\n",
    "\"\"\"\n",
    "Getters :\n",
    "A getter method is used to retrieve the value of n attribute .\n",
    "it allows access to the attribute without direcly exposing \n",
    "it enabling you to add logic or transformation before returing\n",
    "the value\n",
    "\n",
    "Setters :\n",
    "A setters method is used to set the value of an attribute .\n",
    "it allows you to add validation or perform any operation\n",
    "on the value before setting it to the attribute\n",
    "\"\"\"\n",
    "\n",
    "class Person:\n",
    "    def __init__(self, name, age):\n",
    "        self.name = name\n",
    "        self._age = age  \n",
    "\n",
    "\n",
    "    def get_age(self):\n",
    "        return self._age\n",
    "\n",
    "   \n",
    "    def set_age(self, age):\n",
    "        if age < 0:\n",
    "            raise ValueError(\"Age cannot be negative.\")\n",
    "        self._age = age\n",
    "\n",
    "    def display_info(self):\n",
    "        return f\"Name: {self.name}, Age: {self._age}\"\n",
    "\n",
    "\n",
    "person = Person(\"John\", 30)\n",
    "print(person.display_info())\n",
    "\n",
    "   \n",
    "print(\"Age:\", person.get_age())\n",
    "person.set_age(35)\n",
    "print(person.display_info())\n",
    "\n",
    "    \n",
    "\n"
   ]
  },
  {
   "cell_type": "code",
   "execution_count": 24,
   "id": "990d715f-94e8-4d98-a050-84d2ec930168",
   "metadata": {},
   "outputs": [
    {
     "name": "stdout",
     "output_type": "stream",
     "text": [
      "Animal sound: Generic animal sound\n",
      "Dog sound: Bark bark!\n"
     ]
    }
   ],
   "source": [
    "#Q5\n",
    "\n",
    "\"\"\"\n",
    "Method overriding in python occurs when a subclass provides a specific  implementation for a method that is\n",
    "alredy defined in its superclass.\n",
    "the overridden method in the superbclass replaces the implettation of the method inherited from the superbclass .\n",
    "This allows the subclass to customize the behavior of the method without changing its name or signature.\n",
    "\n",
    "\"\"\"\n",
    "class Animal:\n",
    "    def make_sound(self):\n",
    "        return \"Generic animal sound\"\n",
    "\n",
    "\n",
    "class Dog(Animal):\n",
    "    def make_sound(self):\n",
    "        return \"Bark bark!\"\n",
    "\n",
    "\n",
    "animal = Animal()\n",
    "dog = Dog()\n",
    "print(\"Animal sound:\", animal.make_sound())\n",
    "print(\"Dog sound:\", dog.make_sound())\n"
   ]
  },
  {
   "cell_type": "code",
   "execution_count": null,
   "id": "9c3d55e1-8582-4de8-98bc-cb3d3e5f92e4",
   "metadata": {},
   "outputs": [],
   "source": []
  },
  {
   "cell_type": "code",
   "execution_count": null,
   "id": "1bc506a1-de35-4fc9-8975-25aac67a8f89",
   "metadata": {},
   "outputs": [],
   "source": []
  }
 ],
 "metadata": {
  "kernelspec": {
   "display_name": "Python 3 (ipykernel)",
   "language": "python",
   "name": "python3"
  },
  "language_info": {
   "codemirror_mode": {
    "name": "ipython",
    "version": 3
   },
   "file_extension": ".py",
   "mimetype": "text/x-python",
   "name": "python",
   "nbconvert_exporter": "python",
   "pygments_lexer": "ipython3",
   "version": "3.10.8"
  }
 },
 "nbformat": 4,
 "nbformat_minor": 5
}
